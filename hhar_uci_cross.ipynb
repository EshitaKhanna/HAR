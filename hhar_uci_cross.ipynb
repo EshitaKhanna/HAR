{
 "cells": [
  {
   "cell_type": "code",
   "execution_count": 1,
   "metadata": {},
   "outputs": [],
   "source": [
    "import numpy as np\n",
    "import random\n",
    "import tensorflow as tf\n",
    "import matplotlib.pyplot as plt \n",
    "import seaborn as sns\n",
    "import dl_models\n",
    "from sklearn.model_selection import StratifiedKFold\n",
    "from keras.callbacks import EarlyStopping\n",
    "from keras.models import load_model\n",
    "from sklearn.metrics import confusion_matrix"
   ]
  },
  {
   "cell_type": "code",
   "execution_count": 2,
   "metadata": {},
   "outputs": [],
   "source": [
    "seed_value = 0\n",
    "np.random.seed(seed_value)\n",
    "random.seed(seed_value)\n",
    "tf.random.set_seed(seed_value)"
   ]
  },
  {
   "cell_type": "markdown",
   "metadata": {},
   "source": [
    "##### Load and drop \"bike\" and \"stand\" label from HHAR Dataset"
   ]
  },
  {
   "cell_type": "code",
   "execution_count": 3,
   "metadata": {},
   "outputs": [
    {
     "data": {
      "text/plain": [
       "((9166, 120, 6), (9166, 120, 3))"
      ]
     },
     "execution_count": 3,
     "metadata": {},
     "output_type": "execute_result"
    }
   ],
   "source": [
    "data = np.load('/Users/Eshita/Downloads/Artifact-UniHAR/dataset/hhar/data_20_120.npy')\n",
    "labels = np.load('/Users/Eshita/Downloads/Artifact-UniHAR/dataset/hhar/label_20_120.npy')\n",
    "data.shape, labels.shape"
   ]
  },
  {
   "cell_type": "code",
   "execution_count": 4,
   "metadata": {},
   "outputs": [
    {
     "name": "stdout",
     "output_type": "stream",
     "text": [
      "Unique filtered labels: [0. 1. 2. 3. 4. 5.]\n"
     ]
    }
   ],
   "source": [
    "unique_labels = np.unique(labels[:,0,2])\n",
    "print(\"Unique filtered labels:\", unique_labels)"
   ]
  },
  {
   "cell_type": "code",
   "execution_count": 5,
   "metadata": {},
   "outputs": [
    {
     "data": {
      "text/plain": [
       "((6471, 120, 6), (6471, 120, 3))"
      ]
     },
     "execution_count": 5,
     "metadata": {},
     "output_type": "execute_result"
    }
   ],
   "source": [
    "bike_label = 0  # label for \"bike\"\n",
    "stand_label = 4  # label for \"stand\"\n",
    "\n",
    "mask = (labels[:, 0, 2] != bike_label) & (labels[:, 0, 2] != stand_label) # creating a mask for non-bike and non-stand entries\n",
    "\n",
    "# Apply the mask to filter data and labels\n",
    "filtered_data = data[mask]\n",
    "filtered_labels = labels[mask]\n",
    "filtered_data.shape, filtered_labels.shape"
   ]
  },
  {
   "cell_type": "code",
   "execution_count": 6,
   "metadata": {},
   "outputs": [],
   "source": [
    "# Save the filtered data and labels back if needed\n",
    "np.save('dataset/hhar/filtered_data.npy', filtered_data)\n",
    "np.save('dataset/hhar/filtered_labels.npy', filtered_labels)"
   ]
  },
  {
   "cell_type": "markdown",
   "metadata": {},
   "source": [
    "##### Train the model on HHAR Dataset and save it"
   ]
  },
  {
   "cell_type": "code",
   "execution_count": 7,
   "metadata": {},
   "outputs": [
    {
     "name": "stdout",
     "output_type": "stream",
     "text": [
      "Unique filtered labels: [1. 2. 3. 5.]\n",
      "Data:  (6471, 120, 6) Labels:  (6471,)\n",
      "Unique labels: [0 1 2 3]\n",
      "Data:  (648, 120, 6) Labels:  (648,)\n"
     ]
    },
    {
     "name": "stderr",
     "output_type": "stream",
     "text": [
      "/opt/anaconda3/lib/python3.12/site-packages/keras/src/layers/core/dense.py:87: UserWarning: Do not pass an `input_shape`/`input_dim` argument to a layer. When using Sequential models, prefer using an `Input(shape)` object as the first layer in the model instead.\n",
      "  super().__init__(activity_regularizer=activity_regularizer, **kwargs)\n"
     ]
    },
    {
     "name": "stdout",
     "output_type": "stream",
     "text": [
      "Epoch 46: early stopping\n",
      "Restoring model weights from the end of the best epoch: 41.\n"
     ]
    },
    {
     "name": "stderr",
     "output_type": "stream",
     "text": [
      "WARNING:absl:You are saving your model as an HDF5 file via `model.save()` or `keras.saving.save_model(model)`. This file format is considered legacy. We recommend using instead the native Keras format, e.g. `model.save('my_model.keras')` or `keras.saving.save_model(model, 'my_model.keras')`. \n"
     ]
    },
    {
     "name": "stdout",
     "output_type": "stream",
     "text": [
      "Model trained\n",
      "Model trained and saved successfully!\n",
      "Accuracy for all devices and all users:  0.7160493731498718\n"
     ]
    }
   ],
   "source": [
    "data = np.load('dataset/hhar/filtered_data.npy')\n",
    "labels = np.load('dataset/hhar/filtered_labels.npy')\n",
    "unique_labels = np.unique(filtered_labels[:,0,2])\n",
    "print(\"Unique filtered labels:\", unique_labels)\n",
    "\n",
    "model_user_dict = {}\n",
    "\n",
    "for sequence_index, label_sequence in enumerate(labels):\n",
    "    user_index = int(label_sequence[0, 0])  # extracts user index\n",
    "    device_index = int(label_sequence[0, 1])  # extracts device index\n",
    "    gt_index = label_sequence[0, 2]  # extracs ground truth index\n",
    "\n",
    "    if device_index not in model_user_dict:\n",
    "        model_user_dict[device_index] = {}\n",
    "\n",
    "    if user_index not in model_user_dict[device_index]:\n",
    "        model_user_dict[device_index][user_index] = {'data': [], 'labels': []}\n",
    "\n",
    "    # Append data and labels\n",
    "    model_user_dict[device_index][user_index]['data'].append(data[sequence_index])\n",
    "    model_user_dict[device_index][user_index]['labels'].append(gt_index)\n",
    "\n",
    "for device in model_user_dict.keys():\n",
    "    for user in model_user_dict[device].keys():\n",
    "        model_user_dict[device][user]['data'] = np.array(model_user_dict[device][user]['data'])\n",
    "        model_user_dict[device][user]['labels'] = np.array(model_user_dict[device][user]['labels'])\n",
    "\n",
    "# To train model per device per user\n",
    "def get_per_device_per_user_acc():\n",
    "    acc_dict = {}\n",
    "    for device_index in model_user_dict.keys():\n",
    "        for user_index in model_user_dict[device_index].keys():\n",
    "            data_ = model_user_dict[device_index][user_index]['data']\n",
    "            labels_ = model_user_dict[device_index][user_index]['labels']\n",
    "            labels_ = np.array(labels_)\n",
    "            print(\"Device: \", device_index, \"User: \", user_index, \"Data: \", data_.shape, \"Labels: \", labels_.shape)\n",
    "            label_mapping = {1: 0, 2: 1, 3: 2, 5: 3}\n",
    "            labels_ = np.array([label_mapping[label] for label in labels_])\n",
    "            model = dl_models.dense_network(input_dim=data_.shape[1:], output_dim=4)  \n",
    "            kfInner = StratifiedKFold(4, shuffle=True, random_state=seed_value)\n",
    "            train_ind, val_ind = next(kfInner.split(data_, labels_))\n",
    "            X_train, X_test = data_[train_ind], data_[val_ind]\n",
    "            y_train, y_test = labels_[train_ind], labels_[val_ind]\n",
    "            early_stopping = EarlyStopping(\n",
    "                monitor='val_loss',  \n",
    "                patience=5,         \n",
    "                verbose=1,          \n",
    "                mode='min',         \n",
    "                restore_best_weights=True  \n",
    "            )\n",
    "            history = model.fit(X_train, y_train,\n",
    "                                batch_size=128,\n",
    "                                epochs=50,\n",
    "                                verbose=0,\n",
    "                                validation_data=(X_test, y_test),\n",
    "                                shuffle=True,\n",
    "                                callbacks=[early_stopping]\n",
    "                                )\n",
    "\n",
    "            acc_dict[(device_index, user_index)] = model.evaluate(X_test, y_test, verbose=0)[1]\n",
    "            del model\n",
    "    return acc_dict\n",
    "\n",
    "# To train model per device across all users\n",
    "def get_per_device_all_users():\n",
    "    acc_dict = {}\n",
    "    for device_index in model_user_dict.keys():\n",
    "        data_ = []\n",
    "        labels_ = []\n",
    "        for user_index in model_user_dict[device_index].keys():\n",
    "            data_.append(model_user_dict[device_index][user_index]['data'])\n",
    "            labels_.append(model_user_dict[device_index][user_index]['labels'])\n",
    "        data_ = np.concatenate(data_)\n",
    "        labels_ = np.concatenate(labels_)\n",
    "        print(\"Device: \", device_index, \"Data: \", data_.shape, \"Labels: \", labels_.shape)\n",
    "        label_mapping = {1: 0, 2: 1, 3: 2, 5: 3}\n",
    "        labels_ = np.array([label_mapping[label] for label in labels_])\n",
    "        model = dl_models.dense_network(input_dim=data_.shape[1:], output_dim=4)\n",
    "        kfInner = StratifiedKFold(4, shuffle=True, random_state=seed_value)\n",
    "        train_ind, val_ind = next(kfInner.split(data_, labels_))\n",
    "        X_train, X_test = data_[train_ind], data_[val_ind]\n",
    "        y_train, y_test = labels_[train_ind], labels_[val_ind]\n",
    "        early_stopping = EarlyStopping(\n",
    "            monitor='val_loss',  \n",
    "            patience=5,         \n",
    "            verbose=1,          \n",
    "            mode='min',         \n",
    "            restore_best_weights=True  \n",
    "        )\n",
    "        history = model.fit(X_train, y_train,\n",
    "                            batch_size=128,\n",
    "                            epochs=50,\n",
    "                            verbose=0,\n",
    "                            validation_data=(X_test, y_test),\n",
    "                            shuffle=True,\n",
    "                            callbacks=[early_stopping]\n",
    "                            )\n",
    "\n",
    "        acc_dict[device_index] = model.evaluate(X_test, y_test, verbose=0)[1]\n",
    "        del model\n",
    "    return acc_dict\n",
    "\n",
    "# To train model across all devices and users\n",
    "def get_all_devices_all_users():\n",
    "    acc_dict = {}\n",
    "    data_ = []\n",
    "    labels_ = []\n",
    "    for device_index in model_user_dict.keys():\n",
    "        for user_index in model_user_dict[device_index].keys():\n",
    "            data_.append(model_user_dict[device_index][user_index]['data'])\n",
    "            labels_.append(model_user_dict[device_index][user_index]['labels'])\n",
    "    data_ = np.concatenate(data_)\n",
    "    labels_ = np.concatenate(labels_)\n",
    "    print(\"Data: \", data_.shape, \"Labels: \", labels_.shape)\n",
    "\n",
    "    label_mapping = {1: 0, 2: 1, 3: 2, 5: 3}\n",
    "    labels_ = np.array([label_mapping[label] for label in labels_])\n",
    "\n",
    "    # print unique labels\n",
    "    unique_labels = np.unique(labels_)\n",
    "    print(\"Unique labels:\", unique_labels)\n",
    "\n",
    "    model = dl_models.dense_network(input_dim=data_.shape[1:], output_dim=4)\n",
    "    \n",
    "    kfInner = StratifiedKFold(10, shuffle=True, random_state=seed_value)\n",
    "    train_ind, val_ind = next(kfInner.split(data_, labels_))\n",
    "    _, data_ = data_[train_ind], data_[val_ind]\n",
    "    _, labels_ = labels_[train_ind], labels_[val_ind]\n",
    "    print(\"Data: \", data_.shape, \"Labels: \", labels_.shape)\n",
    "\n",
    "    # Train and validation split\n",
    "    kfInner = StratifiedKFold(4, shuffle=True, random_state=seed_value)\n",
    "    train_ind, val_ind = next(kfInner.split(data_, labels_))\n",
    "    X_train, X_test = data_[train_ind], data_[val_ind]\n",
    "    y_train, y_test = labels_[train_ind], labels_[val_ind]\n",
    "    early_stopping = EarlyStopping(\n",
    "        monitor='val_loss',\n",
    "        patience=5,\n",
    "        verbose=1,\n",
    "        mode='min',\n",
    "        restore_best_weights=True\n",
    "    )\n",
    "    history = model.fit(X_train, y_train,\n",
    "                        batch_size=128,\n",
    "                        epochs=50,\n",
    "                        verbose=0,\n",
    "                        validation_data=(X_test, y_test),\n",
    "                        shuffle=True,\n",
    "                        callbacks=[early_stopping]\n",
    "                        )\n",
    "    print(\"Model trained\")\n",
    "    \n",
    "    model.save('hhar_all_devices_all_users_model.h5')\n",
    "    print(\"Model trained and saved successfully!\")\n",
    "    \n",
    "    acc_dict = model.evaluate(X_test, y_test, verbose=0)[1]\n",
    "    del model\n",
    "    return acc_dict\n",
    "\n",
    "# acc_dict = get_per_device_all_users()\n",
    "# print(\"Mean Accuracy per device: \", np.mean(list(acc_dict.values())))\n",
    "\n",
    "# acc_dict = get_per_device_per_user_acc()\n",
    "# print(\"Mean Accuracy per user per device: \", np.mean(list(acc_dict.values())))\n",
    "\n",
    "acc_dict = get_all_devices_all_users()\n",
    "print(\"Accuracy for all devices and all users: \", acc_dict)\n",
    "#print(model_user_dict)"
   ]
  },
  {
   "cell_type": "markdown",
   "metadata": {},
   "source": [
    "##### Load UCI Dataset, drop \"standing\" and \"lying\" label and change mapping"
   ]
  },
  {
   "cell_type": "code",
   "execution_count": 8,
   "metadata": {},
   "outputs": [
    {
     "data": {
      "text/plain": [
       "((2088, 120, 6), (2088, 120, 2))"
      ]
     },
     "execution_count": 8,
     "metadata": {},
     "output_type": "execute_result"
    }
   ],
   "source": [
    "data = np.load('/Users/Eshita/Downloads/Artifact-UniHAR/dataset/uci/data_20_120.npy')\n",
    "labels = np.load('/Users/Eshita/Downloads/Artifact-UniHAR/dataset/uci/label_20_120.npy')\n",
    "data.shape, labels.shape"
   ]
  },
  {
   "cell_type": "code",
   "execution_count": 9,
   "metadata": {},
   "outputs": [
    {
     "data": {
      "text/plain": [
       "((1289, 120, 6), (1289, 120, 2))"
      ]
     },
     "execution_count": 9,
     "metadata": {},
     "output_type": "execute_result"
    }
   ],
   "source": [
    "lying_label = 5  # label for \"lying\"\n",
    "standing_label = 4 # label for \"standing\"\n",
    "mask = (labels[:, 0, 0] != lying_label ) & (labels[:, 0, 0] != standing_label) # Create a mask for non-lying and non-standing entries\n",
    "\n",
    "# Apply the mask to filter data and labels\n",
    "filtered_data = data[mask]\n",
    "filtered_labels = labels[mask]\n",
    "filtered_data.shape, filtered_labels.shape"
   ]
  },
  {
   "cell_type": "code",
   "execution_count": 10,
   "metadata": {},
   "outputs": [],
   "source": [
    "np.save('dataset/uci/filtered_data.npy', filtered_data)\n",
    "np.save('dataset/uci/filtered_labels.npy', filtered_labels)"
   ]
  },
  {
   "cell_type": "code",
   "execution_count": 11,
   "metadata": {},
   "outputs": [
    {
     "data": {
      "text/plain": [
       "array([0., 1., 2., 3.])"
      ]
     },
     "execution_count": 11,
     "metadata": {},
     "output_type": "execute_result"
    }
   ],
   "source": [
    "# Load filtered data and labels\n",
    "filtered_data = np.load('dataset/uci/filtered_data.npy')\n",
    "filtered_labels_uci = np.load('dataset/uci/filtered_labels.npy')\n",
    "np.unique(filtered_labels[:, 0, 0])"
   ]
  },
  {
   "cell_type": "code",
   "execution_count": 12,
   "metadata": {},
   "outputs": [
    {
     "name": "stdout",
     "output_type": "stream",
     "text": [
      "Mapped labels shape: (1289,)\n",
      "Unique mapped labels: [0 1 2 3]\n",
      "Counts match, proceeding to model evaluation.\n"
     ]
    }
   ],
   "source": [
    "filtered_data = np.load('dataset/uci/filtered_data.npy')\n",
    "filtered_labels_uci = np.load('dataset/uci/filtered_labels.npy')\n",
    "\n",
    "# Mapping UCI to HHAR\n",
    "mapping = {\n",
    "    0: 3,  # walking (UCI) -> walk (HHAR)\n",
    "    1: 2,  # upstairs -> upstairs\n",
    "    2: 1,  # downstairs -> downstairs\n",
    "    3: 0,  # sitting -> sit\n",
    "}\n",
    "\n",
    "mapped_labels = np.array([mapping[label] for label in filtered_labels_uci[:, 0, 0]])\n",
    "\n",
    "print(f\"Mapped labels shape: {mapped_labels.shape}\")\n",
    "print(f\"Unique mapped labels: {np.unique(mapped_labels)}\")\n",
    "\n",
    "# Ensure that the number of mapped_labels matches the filtered_data\n",
    "if mapped_labels.shape[0] != filtered_data.shape[0]:\n",
    "    print(\"Warning: Mismatch between filtered_data and mapped_labels counts!\")\n",
    "else:\n",
    "    print(\"Counts match, proceeding to model evaluation.\")\n"
   ]
  },
  {
   "cell_type": "markdown",
   "metadata": {},
   "source": [
    "##### Load the saved HHAR model and test on UCI dataset"
   ]
  },
  {
   "cell_type": "code",
   "execution_count": 13,
   "metadata": {},
   "outputs": [
    {
     "name": "stderr",
     "output_type": "stream",
     "text": [
      "WARNING:absl:Compiled the loaded model, but the compiled metrics have yet to be built. `model.compile_metrics` will be empty until you train or evaluate the model.\n"
     ]
    },
    {
     "name": "stdout",
     "output_type": "stream",
     "text": [
      "\u001b[1m41/41\u001b[0m \u001b[32m━━━━━━━━━━━━━━━━━━━━\u001b[0m\u001b[37m\u001b[0m \u001b[1m0s\u001b[0m 4ms/step - accuracy: 0.2656 - loss: 5.9514\n",
      "Model Loss: 6.1356306076049805, Model Accuracy: 28.63%\n",
      "\u001b[1m41/41\u001b[0m \u001b[32m━━━━━━━━━━━━━━━━━━━━\u001b[0m\u001b[37m\u001b[0m \u001b[1m0s\u001b[0m 7ms/step\n",
      "Predicted classes: [0 0 0 ... 0 0 0]\n"
     ]
    }
   ],
   "source": [
    "# Load and evaluate the model\n",
    "model = load_model('hhar_all_devices_all_users_model.h5')\n",
    "\n",
    "loss, accuracy = model.evaluate(filtered_data, mapped_labels, verbose=1)\n",
    "print(f\"Model Loss: {loss}, Model Accuracy: {accuracy * 100:.2f}%\")\n",
    "\n",
    "predictions = model.predict(filtered_data)\n",
    "predicted_classes = np.argmax(predictions, axis=1)\n",
    "\n",
    "print(\"Predicted classes:\", predicted_classes)"
   ]
  },
  {
   "cell_type": "code",
   "execution_count": 14,
   "metadata": {},
   "outputs": [
    {
     "name": "stdout",
     "output_type": "stream",
     "text": [
      "Confusion Matrix:\n",
      " [[358   0   4   0]\n",
      " [254   0   0   0]\n",
      " [305   0  11   2]\n",
      " [355   0   0   0]]\n"
     ]
    },
    {
     "data": {
      "image/png": "[encoded data removed]",
      "text/plain": [
       "<Figure size 800x600 with 2 Axes>"
      ]
     },
     "metadata": {},
     "output_type": "display_data"
    }
   ],
   "source": [
    "# Confusion matrix\n",
    "conf_matrix = confusion_matrix(mapped_labels, predicted_classes)\n",
    "print(\"Confusion Matrix:\\n\", conf_matrix)\n",
    "\n",
    "# Normalized confusion matrix\n",
    "conf_matrix_norm = conf_matrix.astype('float') / conf_matrix.sum(axis=1)[:, np.newaxis]\n",
    "\n",
    "class_names = ['sit', 'downstairs', 'upstairs', 'walk']\n",
    "\n",
    "plt.figure(figsize=(8, 6))\n",
    "sns.heatmap(conf_matrix_norm, annot=True, fmt='.2f', cmap='Blues', \n",
    "            xticklabels=class_names, \n",
    "            yticklabels=class_names)\n",
    "plt.xlabel('True Labels')\n",
    "plt.ylabel('Predicted Labels')\n",
    "plt.title('Trained on HHAR and tested on UCI')\n",
    "plt.show()"
   ]
  },
  {
   "cell_type": "code",
   "execution_count": null,
   "metadata": {},
   "outputs": [],
   "source": []
  }
 ],
 "metadata": {
  "kernelspec": {
   "display_name": "base",
   "language": "python",
   "name": "python3"
  },
  "language_info": {
   "codemirror_mode": {
    "name": "ipython",
    "version": 3
   },
   "file_extension": ".py",
   "mimetype": "text/x-python",
   "name": "python",
   "nbconvert_exporter": "python",
   "pygments_lexer": "ipython3",
   "version": "3.12.2"
  }
 },
 "nbformat": 4,
 "nbformat_minor": 4
}
